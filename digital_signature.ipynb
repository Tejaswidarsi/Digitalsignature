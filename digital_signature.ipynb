{
  "nbformat": 4,
  "nbformat_minor": 0,
  "metadata": {
    "colab": {
      "provenance": [],
      "authorship_tag": "ABX9TyPIL1kEkiDF5PsPDOuQBU1M",
      "include_colab_link": true
    },
    "kernelspec": {
      "name": "python3",
      "display_name": "Python 3"
    },
    "language_info": {
      "name": "python"
    }
  },
  "cells": [
    {
      "cell_type": "markdown",
      "metadata": {
        "id": "view-in-github",
        "colab_type": "text"
      },
      "source": [
        "<a href=\"https://colab.research.google.com/github/Tejaswidarsi/Digitalsignature/blob/main/digital_signature.ipynb\" target=\"_parent\"><img src=\"https://colab.research.google.com/assets/colab-badge.svg\" alt=\"Open In Colab\"/></a>"
      ]
    },
    {
      "cell_type": "code",
      "execution_count": null,
      "metadata": {
        "colab": {
          "base_uri": "https://localhost:8080/"
        },
        "id": "KTVo3qITiA-y",
        "outputId": "9e0083df-02c9-40d7-c0a7-dbfa6b9f35f6"
      },
      "outputs": [
        {
          "output_type": "stream",
          "name": "stdout",
          "text": [
            "Collecting py_ecc\n",
            "  Downloading py_ecc-7.0.1-py3-none-any.whl.metadata (6.3 kB)\n",
            "Collecting eth-typing>=3.0.0 (from py_ecc)\n",
            "  Downloading eth_typing-5.2.0-py3-none-any.whl.metadata (3.2 kB)\n",
            "Collecting eth-utils>=2.0.0 (from py_ecc)\n",
            "  Downloading eth_utils-5.2.0-py3-none-any.whl.metadata (5.4 kB)\n",
            "Collecting cached-property>=1.5.1 (from py_ecc)\n",
            "  Downloading cached_property-2.0.1-py3-none-any.whl.metadata (10 kB)\n",
            "Requirement already satisfied: typing_extensions>=4.5.0 in /usr/local/lib/python3.11/dist-packages (from eth-typing>=3.0.0->py_ecc) (4.13.0)\n",
            "Collecting eth-hash>=0.3.1 (from eth-utils>=2.0.0->py_ecc)\n",
            "  Downloading eth_hash-0.7.1-py3-none-any.whl.metadata (4.2 kB)\n",
            "Collecting cytoolz>=0.10.1 (from eth-utils>=2.0.0->py_ecc)\n",
            "  Downloading cytoolz-1.0.1-cp311-cp311-manylinux_2_17_x86_64.manylinux2014_x86_64.whl.metadata (4.6 kB)\n",
            "Requirement already satisfied: toolz>=0.8.0 in /usr/local/lib/python3.11/dist-packages (from cytoolz>=0.10.1->eth-utils>=2.0.0->py_ecc) (0.12.1)\n",
            "Downloading py_ecc-7.0.1-py3-none-any.whl (43 kB)\n",
            "\u001b[2K   \u001b[90m━━━━━━━━━━━━━━━━━━━━━━━━━━━━━━━━━━━━━━━━\u001b[0m \u001b[32m43.3/43.3 kB\u001b[0m \u001b[31m807.3 kB/s\u001b[0m eta \u001b[36m0:00:00\u001b[0m\n",
            "\u001b[?25hDownloading cached_property-2.0.1-py3-none-any.whl (7.4 kB)\n",
            "Downloading eth_typing-5.2.0-py3-none-any.whl (19 kB)\n",
            "Downloading eth_utils-5.2.0-py3-none-any.whl (100 kB)\n",
            "\u001b[2K   \u001b[90m━━━━━━━━━━━━━━━━━━━━━━━━━━━━━━━━━━━━━━━━\u001b[0m \u001b[32m100.5/100.5 kB\u001b[0m \u001b[31m2.7 MB/s\u001b[0m eta \u001b[36m0:00:00\u001b[0m\n",
            "\u001b[?25hDownloading cytoolz-1.0.1-cp311-cp311-manylinux_2_17_x86_64.manylinux2014_x86_64.whl (2.1 MB)\n",
            "\u001b[2K   \u001b[90m━━━━━━━━━━━━━━━━━━━━━━━━━━━━━━━━━━━━━━━━\u001b[0m \u001b[32m2.1/2.1 MB\u001b[0m \u001b[31m19.4 MB/s\u001b[0m eta \u001b[36m0:00:00\u001b[0m\n",
            "\u001b[?25hDownloading eth_hash-0.7.1-py3-none-any.whl (8.0 kB)\n",
            "Installing collected packages: eth-typing, eth-hash, cytoolz, cached-property, eth-utils, py_ecc\n",
            "Successfully installed cached-property-2.0.1 cytoolz-1.0.1 eth-hash-0.7.1 eth-typing-5.2.0 eth-utils-5.2.0 py_ecc-7.0.1\n"
          ]
        }
      ],
      "source": [
        "pip install py_ecc"
      ]
    },
    {
      "cell_type": "code",
      "source": [
        "from py_ecc.bls import G2ProofOfPossession as bls\n",
        "\n",
        "# Simulate 3 clients\n",
        "NUM_CLIENTS = 3\n",
        "clients = {}\n",
        "\n",
        "# Step 1: Each client generates a private/public key pair\n",
        "for client_id in range(1, NUM_CLIENTS + 1):\n",
        "    sk = bls.KeyGen(client_id.to_bytes(2, 'big'))  # Simple keygen using client ID\n",
        "    pk = bls.SkToPk(sk)\n",
        "    clients[client_id] = {\n",
        "        'sk': sk,\n",
        "        'pk': pk\n",
        "    }\n",
        "\n",
        "# Server maintains a list of public keys\n",
        "server_public_keys = {cid: data['pk'] for cid, data in clients.items()}\n",
        "\n",
        "# Step 2: Clients sign messages\n",
        "messages = {}\n",
        "signatures = {}\n",
        "\n",
        "print(\"\\n--- Messages and Signatures ---\")\n",
        "for client_id in clients:\n",
        "    message = f\"Message from Client {client_id}\".encode('utf-8')\n",
        "    sk = clients[client_id]['sk']\n",
        "    signature = bls.Sign(sk, message)\n",
        "\n",
        "    messages[client_id] = message\n",
        "    signatures[client_id] = signature\n",
        "\n",
        "    print(f\"\\nClient {client_id}\")\n",
        "    print(f\"Message: {message.decode('utf-8')}\")\n",
        "    print(f\"Signature: {signature.hex()}\")\n",
        "\n",
        "# Step 3: Server verifies each signature\n",
        "print(\"\\n--- Signature Verification ---\")\n",
        "for client_id in clients:\n",
        "    pk = server_public_keys[client_id]\n",
        "    message = messages[client_id]\n",
        "    signature = signatures[client_id]\n",
        "\n",
        "    is_valid = bls.Verify(pk, message, signature)\n",
        "    print(f\"Client {client_id}: Signature is {'valid' if is_valid else 'invalid'}\")"
      ],
      "metadata": {
        "colab": {
          "base_uri": "https://localhost:8080/"
        },
        "id": "9RRhu2zaiMJJ",
        "outputId": "317bf635-e58d-44f3-a5a1-a7636d391714"
      },
      "execution_count": null,
      "outputs": [
        {
          "output_type": "stream",
          "name": "stdout",
          "text": [
            "\n",
            "--- Messages and Signatures ---\n",
            "\n",
            "Client 1\n",
            "Message: Message from Client 1\n",
            "Signature: a76dd52745d8dc093b0b85c2a191bc5444f33c475d2a0c8a588442b8b12a2b72608fff91635e58a8e059505d7c33b89d026a906ce69e48f51de15fe08c462d2efa119b17af0f2e395b1ba2f63f6ace07ae3f01d5140016e5777f913d452b25de\n",
            "\n",
            "Client 2\n",
            "Message: Message from Client 2\n",
            "Signature: b84cf54e7c4bd32dc2ff659992ba88aa68dbb97326cb5aaa1526bb2da607154f09894854bcbdbadec5c4c14245243feb0b313045e0aff4842ff1fa31b1397a1c916e07b2173904c1d41291a859b5f5821d95584694bfc638f6ff5301bc6cfd0d\n",
            "\n",
            "Client 3\n",
            "Message: Message from Client 3\n",
            "Signature: b6c8adab9b59d12fdd6b148369729aa39733f93fe0528e9b72fcddab72a777da34d237715aaf60162344ebb52f11af211201090f94e3e2f753a4839b72b8ca8957258effaf519722cd6c656c64dfcd8872e80e09959d5614cbef7900451ffd53\n",
            "\n",
            "--- Signature Verification ---\n",
            "Client 1: Signature is valid\n",
            "Client 2: Signature is valid\n",
            "Client 3: Signature is valid\n"
          ]
        }
      ]
    }
  ]
}